{
 "cells": [
  {
   "cell_type": "markdown",
   "metadata": {},
   "source": [
    "## We will be working with database chinook.db\n",
    "You can download it here: https://drive.google.com/file/d/0Bz9_0VdXvv9bWUtqM0NBYzhKZ3c/view?usp=sharing\n",
    "\n",
    "The\tChinook\tDatabase is\tabout an imaginary video and music store. Each track is\tstored using one of\tthe digital formats and\thas\ta genre. The store has also\tsome playlists,\twhere a single track can be\tpart of several\tplaylists. Orders are recorded\tfor\tcustomers, but are called invoices. Every customer is assigned a support employee, and Employees report to other employees."
   ]
  },
  {
   "cell_type": "code",
   "execution_count": null,
   "metadata": {},
   "outputs": [],
   "source": []
  },
  {
   "cell_type": "code",
   "execution_count": null,
   "metadata": {},
   "outputs": [],
   "source": []
  },
  {
   "cell_type": "markdown",
   "metadata": {},
   "source": [
    "### Which\tartists\tdid\tnot\tmake\tany\talbums\tat\tall?\tInclude\ttheir\tnames\tin your\tanswer."
   ]
  },
  {
   "cell_type": "markdown",
   "metadata": {},
   "source": [
    "SELECT artists.name FROM artists LEFT OUTER JOIN albums ON artists.artistid=albums.artistid WHERE albumid IS NULL \n",
    "\n",
    "Milton Nascimento & Bebeto\n",
    "Azymuth\n",
    "João Gilberto\n",
    "Bebel Gilberto\n",
    "Jorge Vercilo\n",
    "Baby Consuelo\n",
    "Ney Matogrosso\n",
    "Luiz Melodia\n",
    "Nando Reis\n",
    "Pedro Luís & A Parede\n",
    "Banda Black Rio\n",
    "Fernanda Porto\n",
    "Os Cariocas\n",
    "A Cor Do Som\n",
    "Kid Abelha\n",
    "Sandra De Sá\n",
    "Hermeto Pascoal\n",
    "Barão Vermelho\n",
    "Edson, DJ Marky & DJ Patife Featuring Fernanda Porto\n",
    "Santana Feat. Dave Matthews\n",
    "Santana Feat. Everlast\n",
    "Santana Feat. Rob Thomas\n",
    "Santana Feat. Lauryn Hill & Cee-Lo\n",
    "Santana Feat. The Project G&B\n",
    "Santana Feat. Maná\n",
    "Santana Feat. Eagle-Eye Cherry\n",
    "Santana Feat. Eric Clapton\n",
    "Vinícius De Moraes & Baden Powell\n",
    "Vinícius E Qurteto Em Cy\n",
    "Vinícius E Odette Lara\n",
    "Vinicius, Toquinho & Quarteto Em Cy\n",
    "Motörhead & Girlschool\n",
    "Peter Tosh\n",
    "R.E.M. Feat. KRS-One\n",
    "Simply Red\n",
    "Whitesnake\n",
    "Christina Aguilera featuring BigElf\n",
    "Aerosmith & Sierra Leone's Refugee Allstars\n",
    "Los Lonely Boys\n",
    "Corinne Bailey Rae\n",
    "Dhani Harrison & Jakob Dylan\n",
    "Jackson Browne\n",
    "Avril Lavigne\n",
    "Big & Rich\n",
    "Youssou N'Dour\n",
    "Black Eyed Peas\n",
    "Jack Johnson\n",
    "Ben Harper\n",
    "Snow Patrol\n",
    "Matisyahu\n",
    "The Postal Service\n",
    "Jaguares\n",
    "The Flaming Lips\n",
    "Jack's Mannequin & Mick Fleetwood\n",
    "Regina Spektor\n",
    "Xis\n",
    "Nega Gizza\n",
    "Gustavo & Andres Veiga & Salazar\n",
    "Rodox\n",
    "Charlie Brown Jr.\n",
    "Pedro Luís E A Parede\n",
    "Los Hermanos\n",
    "Mundo Livre S/A\n",
    "Otto\n",
    "Instituto\n",
    "Nação Zumbi\n",
    "DJ Dolores & Orchestra Santa Massa\n",
    "Seu Jorge\n",
    "Sabotage E Instituto\n",
    "Stereo Maracana\n",
    "Academy of St. Martin in the Fields, Sir Neville Marriner & William Bennett"
   ]
  },
  {
   "cell_type": "markdown",
   "metadata": {},
   "source": [
    "### Which\tartists\trecorded\tany\ttracks\tof\tthe\tLatin\tgenre?"
   ]
  },
  {
   "cell_type": "markdown",
   "metadata": {},
   "source": [
    "SELECT DISTINCT artists.name FROM tracks INNER JOIN genres ON genres.genreid = tracks.genreid JOIN albums ON tracks.albumid=albums.albumid JOIN artists ON albums.artistid=artists.artistid WHERE genres.name= 'Latin'\n",
    "\n",
    "Caetano Veloso\n",
    "Chico Buarque\n",
    "Chico Science & Nação Zumbi\n",
    "Cláudio Zoli\n",
    "Marcos Valle\n",
    "Antônio Carlos Jobim\n",
    "Gonzaguinha\n",
    "Various Artists\n",
    "Ed Motta\n",
    "Cássia Eller\n",
    "Djavan\n",
    "Elis Regina\n",
    "Falamansa\n",
    "Funk Como Le Gusta\n",
    "Gilberto Gil\n",
    "Eric Clapton\n",
    "Jorge Ben\n",
    "Jota Quest\n",
    "Legião Urbana\n",
    "Lulu Santos\n",
    "Marisa Monte\n",
    "Milton Nascimento\n",
    "Olodum\n",
    "Os Paralamas Do Sucesso\n",
    "Tim Maia\n",
    "Vinícius De Moraes\n",
    "Zeca Pagodinho\n",
    "Luciana Souza/Romero Lubambo"
   ]
  },
  {
   "cell_type": "markdown",
   "metadata": {},
   "source": [
    "### Which\tvideo track\thas\tthe\tlongest\tlength?"
   ]
  },
  {
   "cell_type": "markdown",
   "metadata": {},
   "source": [
    "SELECT tracks.name, milliseconds, MAX(mediatypeID) FROM tracks WHERE mediatypeid = 3\n",
    "Battlestar Galactica: The Story So Far\t2622250\t3"
   ]
  },
  {
   "cell_type": "markdown",
   "metadata": {},
   "source": [
    "### Find\tthe\tnames\tof\tcustomers\twho\tlive\tin\tthe\tsame\tcity\tas\tthe\ttop\temployee\t(The\tone\tnot\tmanaged\tby\tanyone)."
   ]
  },
  {
   "cell_type": "markdown",
   "metadata": {},
   "source": [
    "SELECT customers.firstname, customers.lastname, customers.city FROM customers WHERE city = (SELECT city FROM employees WHERE reportsto IS NULL)\n",
    "\n",
    "Mark\tPhilips\tEdmonton"
   ]
  },
  {
   "cell_type": "markdown",
   "metadata": {},
   "source": [
    "### Find\tthe\tmanagers of\temployees\tsupporting\tBrazilian\tcustomers."
   ]
  },
  {
   "cell_type": "markdown",
   "metadata": {},
   "source": [
    "SELECT firstname, lastname FROM employees WHERE employeeid = \n",
    "(SELECT reportsto FROM employees WHERE employeeid IN (SELECT customers.supportrepid FROM customers WHERE country = 'Brazil'))\n",
    "\n",
    "Nancy\tEdwards"
   ]
  },
  {
   "cell_type": "markdown",
   "metadata": {},
   "source": [
    "### Which\tplaylists\thave\tno\tLatin\ttracks?"
   ]
  },
  {
   "cell_type": "markdown",
   "metadata": {},
   "source": [
    "SELECT playlists.name \n",
    "  FROM playlists JOIN playlist_track \n",
    "    ON playlists.playlistid= playlist_track.playlistid \n",
    "   JOIN tracks ON playlist_track.trackid=tracks.trackid\n",
    "  WHERE genreid != (SELECT genreid FROM genres WHERE name ='Latin')"
   ]
  }
 ],
 "metadata": {
  "kernelspec": {
   "display_name": "Python 3",
   "language": "python",
   "name": "python3"
  },
  "language_info": {
   "codemirror_mode": {
    "name": "ipython",
    "version": 3
   },
   "file_extension": ".py",
   "mimetype": "text/x-python",
   "name": "python",
   "nbconvert_exporter": "python",
   "pygments_lexer": "ipython3",
   "version": "3.8.3"
  }
 },
 "nbformat": 4,
 "nbformat_minor": 4
}
