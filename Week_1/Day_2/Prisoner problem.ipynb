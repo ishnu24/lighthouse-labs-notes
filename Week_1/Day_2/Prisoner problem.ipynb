{
 "cells": [
  {
   "cell_type": "code",
   "execution_count": 27,
   "metadata": {},
   "outputs": [
    {
     "name": "stdout",
     "output_type": "stream",
     "text": [
      "\n",
      "original status: [1, 1, 0, 0, 0, 1, 0]\n",
      "postion 1 is now free.\n",
      "1 so far\n",
      "New status [0, 0, 1, 1, 1, 0, 1]\n",
      "postion 3 is now free.\n",
      "2 so far\n",
      "New status [1, 1, 0, 0, 0, 1, 0]\n",
      "postion 6 is now free.\n",
      "3 so far\n",
      "New status [0, 0, 1, 1, 1, 0, 1]\n",
      "postion 7 is now free.\n",
      "4 so far\n",
      "New status [1, 1, 0, 0, 0, 1, 0]\n",
      "Total Freed:  4\n",
      "\n",
      "original status: [1, 1, 1]\n",
      "postion 1 is now free.\n",
      "1 so far\n",
      "New status [0, 0, 0]\n",
      "Total Freed:  1\n",
      "\n",
      "original status: [0, 0, 0]\n",
      "edge case, freed:  0\n",
      "\n",
      "original status: [0, 1, 1, 1]\n",
      "edge case, freed:  0\n"
     ]
    }
   ],
   "source": [
    "def freed_prisoners(cells):\n",
    "    freed = 0\n",
    "    print(\"\\noriginal status:\",cells)\n",
    "    \n",
    "    # edge case\n",
    "    if cells[0] == 0:\n",
    "        print(\"edge case, freed: \", freed)\n",
    "        return\n",
    "    \n",
    "    for index, x in enumerate(cells):\n",
    "        if cells[index] == 1:\n",
    "            freed = freed + 1\n",
    "            print(f\"postion {index+1} is now free.\\n{freed} so far\")\n",
    "            # convert 1 to 0 and 0 to 1\n",
    "            cells = [i^1 for i in cells]\n",
    "            print(\"New status\", cells)\n",
    "        else:\n",
    "            continue\n",
    "        \n",
    "    print(\"Total Freed: \", freed)\n",
    "    return\n",
    "\n",
    "freed_prisoners([1, 1, 0, 0, 0, 1, 0])\n",
    "freed_prisoners([1, 1, 1])\n",
    "freed_prisoners([0, 0, 0])\n",
    "freed_prisoners([0, 1, 1, 1])"
   ]
  },
  {
   "cell_type": "code",
   "execution_count": null,
   "metadata": {},
   "outputs": [],
   "source": []
  }
 ],
 "metadata": {
  "kernelspec": {
   "display_name": "bootcamp",
   "language": "python",
   "name": "bootcamp"
  },
  "language_info": {
   "codemirror_mode": {
    "name": "ipython",
    "version": 3
   },
   "file_extension": ".py",
   "mimetype": "text/x-python",
   "name": "python",
   "nbconvert_exporter": "python",
   "pygments_lexer": "ipython3",
   "version": "3.8.5"
  }
 },
 "nbformat": 4,
 "nbformat_minor": 4
}
