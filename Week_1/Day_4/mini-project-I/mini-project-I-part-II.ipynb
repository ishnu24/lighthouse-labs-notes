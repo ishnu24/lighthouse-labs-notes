{
 "cells": [
  {
   "cell_type": "markdown",
   "metadata": {},
   "source": [
    "## Movies\n",
    "In this part of mini-project, we need to have our API-KEY ready because this API won't work without it.\n",
    "\n",
    "We encourage you to look for correct endpoints in [the documentation](https://developers.themoviedb.org/3/account). We can also play around with requests there before copying them to Python."
   ]
  },
  {
   "cell_type": "code",
   "execution_count": 11,
   "metadata": {},
   "outputs": [],
   "source": [
    "import os\n",
    "import requests\n",
    "from IPython.display import JSON"
   ]
  },
  {
   "cell_type": "markdown",
   "metadata": {},
   "source": [
    "## Demo"
   ]
  },
  {
   "cell_type": "code",
   "execution_count": 5,
   "metadata": {
    "collapsed": true,
    "jupyter": {
     "outputs_hidden": true
    }
   },
   "outputs": [],
   "source": [
    "base = \"https://api.themoviedb.org/3\"\n",
    "url = \"/search/movie\"\n",
    "\n",
    "query = 'titanic'\n",
    "api_key = os.environ[\"<your api key name>\"]\n",
    "params = f'?query={query}&api_key={api_key}' "
   ]
  },
  {
   "cell_type": "code",
   "execution_count": 6,
   "metadata": {
    "collapsed": true,
    "jupyter": {
     "outputs_hidden": true
    }
   },
   "outputs": [],
   "source": [
    "res = requests.get(base+url+params)"
   ]
  },
  {
   "cell_type": "code",
   "execution_count": 7,
   "metadata": {
    "collapsed": true,
    "jupyter": {
     "outputs_hidden": true
    }
   },
   "outputs": [
    {
     "data": {
      "text/plain": [
       "200"
      ]
     },
     "execution_count": 7,
     "metadata": {},
     "output_type": "execute_result"
    }
   ],
   "source": [
    "res.status_code"
   ]
  },
  {
   "cell_type": "code",
   "execution_count": 8,
   "metadata": {
    "collapsed": true,
    "jupyter": {
     "outputs_hidden": true
    }
   },
   "outputs": [
    {
     "data": {
      "text/plain": [
       "{'page': 1,\n",
       " 'results': [{'adult': False,\n",
       "   'backdrop_path': '/yDI6D5ZQh67YU4r2ms8qcSbAviZ.jpg',\n",
       "   'genre_ids': [18, 10749],\n",
       "   'id': 597,\n",
       "   'original_language': 'en',\n",
       "   'original_title': 'Titanic',\n",
       "   'overview': \"101-year-old Rose DeWitt Bukater tells the story of her life aboard the Titanic, 84 years later. A young Rose boards the ship with her mother and fiancé. Meanwhile, Jack Dawson and Fabrizio De Rossi win third-class tickets aboard the ship. Rose tells the whole story from Titanic's departure through to its death—on its first and last voyage—on April 15, 1912.\",\n",
       "   'popularity': 66.268,\n",
       "   'poster_path': '/9xjZS2rlVxm8SFx8kPC3aIGCOYQ.jpg',\n",
       "   'release_date': '1997-11-18',\n",
       "   'title': 'Titanic',\n",
       "   'video': False,\n",
       "   'vote_average': 7.9,\n",
       "   'vote_count': 18379},\n",
       "  {'adult': False,\n",
       "   'backdrop_path': '/e9XRikkyth0GtG8RkU3XNm0oMsA.jpg',\n",
       "   'genre_ids': [28, 12, 53],\n",
       "   'id': 44918,\n",
       "   'original_language': 'en',\n",
       "   'original_title': 'Titanic II',\n",
       "   'overview': 'On the 100th anniversary of the original voyage, a modern luxury liner christened \"Titanic 2,\" follows the path of its namesake. But when a tsunami hurls an ice berg into the new ship\\'s path, the passengers and crew must fight to avoid a similar fate.',\n",
       "   'popularity': 20.099,\n",
       "   'poster_path': '/3bhv6sf3Q8D3tbUvtPCCh3vdYyA.jpg',\n",
       "   'release_date': '2010-08-07',\n",
       "   'title': 'Titanic 2',\n",
       "   'video': False,\n",
       "   'vote_average': 4.5,\n",
       "   'vote_count': 195},\n",
       "  {'adult': False,\n",
       "   'backdrop_path': '/3oShsRvAyZiQQ5lP2hszWN9Ri0b.jpg',\n",
       "   'genre_ids': [28, 18, 10749],\n",
       "   'id': 16535,\n",
       "   'original_language': 'en',\n",
       "   'original_title': 'Titanic',\n",
       "   'overview': 'Unhappily married, Julia Sturges decides to go to America with her two children on the unsinkable Titanic. Her husband, Richard also arranges passage on the luxury liner so as to have custody of their two children. All this fades to insignificance once the ship hits an iceberg.',\n",
       "   'popularity': 13.568,\n",
       "   'poster_path': '/22Fh4UoxP6ejL2IFws76TJ8oYlj.jpg',\n",
       "   'release_date': '1953-04-11',\n",
       "   'title': 'Titanic',\n",
       "   'video': False,\n",
       "   'vote_average': 6.4,\n",
       "   'vote_count': 72},\n",
       "  {'adult': False,\n",
       "   'backdrop_path': '/82tRA7Vdf7TwdyJYILUh6FuY88L.jpg',\n",
       "   'genre_ids': [99],\n",
       "   'id': 198901,\n",
       "   'original_language': 'en',\n",
       "   'original_title': 'Titanic: 100 Years On',\n",
       "   'overview': 'The \"unsinkable\" floating palace set sail from Southampton on 10th April 1912 on her maiden voyage to New York. An iceberg ended this monumental journey 5 days later. Only 705 of the passengers and crew survived. This program features an exclusive look at the Sea City Museum Titanic Exhibit in Southampton, interviews from both survivors and the cast of the blockbuster film.',\n",
       "   'popularity': 19.631,\n",
       "   'poster_path': '/uAaXfaJpKjmsA3F1KgowcRJPKPM.jpg',\n",
       "   'release_date': '2012-06-01',\n",
       "   'title': 'Titanic: 100 Years On',\n",
       "   'video': False,\n",
       "   'vote_average': 6.8,\n",
       "   'vote_count': 16},\n",
       "  {'adult': False,\n",
       "   'backdrop_path': '/xSssW53a2s2euCdyI4aEpzyZfb1.jpg',\n",
       "   'genre_ids': [878, 28, 12, 35],\n",
       "   'id': 467839,\n",
       "   'original_language': 'en',\n",
       "   'original_title': 'Aliens vs. Titanic',\n",
       "   'overview': 'Offering only the finest amenities, the ‘TITAN 1C’ space-cruiser is considered the most luxurious star-liner ever built. Future spring-breakers on board are excited to be touring through space with some of the world’s elite. However, a sudden meteor storm smashes into the hull, and a deadly biological alien life form is let loose on the ship.  Seeking a suitable host, the retrovirus successfully merges with some the passengers, transforming them into seemingly invincible predators with the “touch of death”. As the ship is destroyed, the surviving passengers crash on a remote planet, and they learn that one of them is “infected”. They must quickly band together before it has a chance to slaughter them all.',\n",
       "   'popularity': 7.678,\n",
       "   'poster_path': '/blREOd05hyvbiA3Qc6BqCJ7unvC.jpg',\n",
       "   'release_date': '2017-09-18',\n",
       "   'title': 'Aliens vs. Titanic',\n",
       "   'video': False,\n",
       "   'vote_average': 5.1,\n",
       "   'vote_count': 10},\n",
       "  {'adult': False,\n",
       "   'backdrop_path': '/edHgXEtPbyVIQ7xKb1cvJJqTVhA.jpg',\n",
       "   'genre_ids': [28, 18, 36],\n",
       "   'id': 11021,\n",
       "   'original_language': 'de',\n",
       "   'original_title': 'Titanic',\n",
       "   'overview': \"This little-known German film retells the true story of the British ocean liner that met a tragic fate. Ernst Fritz Fürbringer plays the president of the White Star Line, who unwisely pressed the Titanic's captain (Otto Wernicke) to make the swiftest possible crossing to New York. Interestingly, director Herbert Selpin was arrested by the Gestapo during this film's production, and German censors banned the film for its scenes of panic and terror.\",\n",
       "   'popularity': 4.623,\n",
       "   'poster_path': '/Al7oIXQ4dZAofBTZWm6OiXS3MEa.jpg',\n",
       "   'release_date': '1943-11-10',\n",
       "   'title': 'Titanic',\n",
       "   'video': False,\n",
       "   'vote_average': 6.1,\n",
       "   'vote_count': 37},\n",
       "  {'adult': False,\n",
       "   'backdrop_path': '/vldLBVSl4UeaJVykpZW9SW2Ob38.jpg',\n",
       "   'genre_ids': [12],\n",
       "   'id': 24575,\n",
       "   'original_language': 'en',\n",
       "   'original_title': 'Raise the Titanic',\n",
       "   'overview': 'To obtain a supply of a rare mineral, a ship raising operation is conducted for the only known source, the Titanic.',\n",
       "   'popularity': 6.845,\n",
       "   'poster_path': '/beYNLj44FOdV47tomXuJyPkvCKl.jpg',\n",
       "   'release_date': '1980-08-01',\n",
       "   'title': 'Raise the Titanic',\n",
       "   'video': False,\n",
       "   'vote_average': 5.5,\n",
       "   'vote_count': 50},\n",
       "  {'adult': False,\n",
       "   'backdrop_path': None,\n",
       "   'genre_ids': [10770, 99],\n",
       "   'id': 463397,\n",
       "   'original_language': 'en',\n",
       "   'original_title': 'Nazi Titanic',\n",
       "   'overview': 'During a bizarre chapter of WWII, Nazi propaganda minister Joseph Goebbels decided to make a movie based on the sinking of the Titanic. This epic film was so large in scale that the Nazis were forced to divert men, material and ships from the war effort in order to complete it. Titanic was filmed aboard cruise ship SS Cap Arcona in the Baltic Sea. The movie’s director Herbert Selpin was arrested by the Gestapo over comments he made about the ship’s crew and he was questioned by Goebbels. Selpin was found dead the next day in his cell. The Gestapo’s verdict was suicide. Titanic never received the impressive premiere that Goebbels intended, being first shown in Nazi-occupied Paris in 1943. We reveal this little known but fascinating story by looking at the making of the film, as well as the fate of the German ship Cap Arcona.',\n",
       "   'popularity': 4.129,\n",
       "   'poster_path': '/pmCnVAP0dQumyDMgCnzEgnpMt1g.jpg',\n",
       "   'release_date': '2012-04-14',\n",
       "   'title': 'Nazi Titanic',\n",
       "   'video': False,\n",
       "   'vote_average': 7,\n",
       "   'vote_count': 2},\n",
       "  {'adult': False,\n",
       "   'backdrop_path': '/4Sddw1BFQFHOIQZ3DY7QS0mGnVe.jpg',\n",
       "   'genre_ids': [16, 10751],\n",
       "   'id': 71235,\n",
       "   'original_language': 'it',\n",
       "   'original_title': 'Titanic: La leggenda continua',\n",
       "   'overview': 'An animated retelling of the worst passenger ship disaster in history. In this version, love blossoms between the upper-class Sir William and the blue-collar Angelica, who is hoping to find romance in America. At the same time, there are also a number of animal passengers, including talking dogs, cats and mice, who are also looking forward to arriving in the New World.',\n",
       "   'popularity': 4.851,\n",
       "   'poster_path': '/s1PHRSlos2hIFrtA8Ze0JybJTGb.jpg',\n",
       "   'release_date': '2000-09-15',\n",
       "   'title': 'Titanic: The Legend Goes On...',\n",
       "   'video': False,\n",
       "   'vote_average': 2.1,\n",
       "   'vote_count': 42},\n",
       "  {'adult': False,\n",
       "   'backdrop_path': None,\n",
       "   'genre_ids': [35],\n",
       "   'id': 780998,\n",
       "   'original_language': 'en',\n",
       "   'original_title': 'Titanic 2',\n",
       "   'overview': 'The long-awaited sequel to Titanic (1997).',\n",
       "   'popularity': 4.591,\n",
       "   'poster_path': '/c9hgLBaY1zzcExnFHqTlXn62bra.jpg',\n",
       "   'release_date': '2017-04-04',\n",
       "   'title': 'Titanic 2',\n",
       "   'video': False,\n",
       "   'vote_average': 0,\n",
       "   'vote_count': 0},\n",
       "  {'adult': False,\n",
       "   'backdrop_path': None,\n",
       "   'genre_ids': [99],\n",
       "   'id': 421657,\n",
       "   'original_language': 'en',\n",
       "   'original_title': 'Inside the Titanic',\n",
       "   'overview': 'An ambitious factual drama that reveals moment by moment exactly how the Titanic sank, telling the untold stories of the engineers and stokers who battled the icy water.',\n",
       "   'popularity': 4.386,\n",
       "   'poster_path': '/jDHeorRWLuzyXSUGVX47OSdWvVM.jpg',\n",
       "   'release_date': '2012-03-22',\n",
       "   'title': 'Inside the Titanic',\n",
       "   'video': False,\n",
       "   'vote_average': 8,\n",
       "   'vote_count': 1},\n",
       "  {'adult': False,\n",
       "   'backdrop_path': '/hDfaa3Nj3K3SkXBr8eALYfPT5pF.jpg',\n",
       "   'genre_ids': [99],\n",
       "   'id': 428950,\n",
       "   'original_language': 'en',\n",
       "   'original_title': 'Drain the Titanic',\n",
       "   'overview': \"Computer-generated imagery and other visualization techniques reveal how it would look if all the water was removed from RMS Titanic's final resting place.\",\n",
       "   'popularity': 3.973,\n",
       "   'poster_path': '/68Fppsnpc3OmQK8kIustffrxHbq.jpg',\n",
       "   'release_date': '2016-05-05',\n",
       "   'title': 'Drain the Titanic',\n",
       "   'video': False,\n",
       "   'vote_average': 8,\n",
       "   'vote_count': 4},\n",
       "  {'adult': False,\n",
       "   'backdrop_path': '/mEoU71g0SjTDEiMTyRj1bV2EfIp.jpg',\n",
       "   'genre_ids': [99],\n",
       "   'id': 213362,\n",
       "   'original_language': 'en',\n",
       "   'original_title': 'Reflections on Titanic',\n",
       "   'overview': \"An enthralling and fast-paced four-part documentary feature that covers the making of one of the last major Hollywood epics; Titanic. Cast and crew speak on setting the sinking of the ship against a classic romance. The feature also examines casting and the young couple headlining the film, DiCaprio's and Winslet's on-set friendship and their differing acting styles, the expansive sets and filming locations, the authenticity of the recreated ship, James Cameron's work and dedication, and budgeting. And many more aspects of the film are overviewed.\",\n",
       "   'popularity': 5.749,\n",
       "   'poster_path': '/54Cp80F0KtRyLjVR10LgrmhWJma.jpg',\n",
       "   'release_date': '2012-09-10',\n",
       "   'title': 'Reflections on Titanic',\n",
       "   'video': False,\n",
       "   'vote_average': 7.2,\n",
       "   'vote_count': 16},\n",
       "  {'adult': False,\n",
       "   'backdrop_path': None,\n",
       "   'genre_ids': [35, 27],\n",
       "   'id': 4240,\n",
       "   'original_language': 'en',\n",
       "   'original_title': 'Titanic 2000',\n",
       "   'overview': 'The luxury liner Titanic 2000 has set sail on its maiden voyage, and one of the passengers is the vampire Vladamina. Vladamina is searching for a woman she can turn into a vampire queen, and frustrated rock groupie Shari looks to be a perfect target. As various people get seduced and/or killed as the liner continues on its doomed voyage, Shari must chose between eternity as a living dead sex slave or a frigid grave at the bottom of the ocean.',\n",
       "   'popularity': 3.235,\n",
       "   'poster_path': None,\n",
       "   'release_date': '1999-01-01',\n",
       "   'title': 'Titanic 2000',\n",
       "   'video': False,\n",
       "   'vote_average': 3.1,\n",
       "   'vote_count': 7},\n",
       "  {'adult': False,\n",
       "   'backdrop_path': '/sdtfwZulErbQ7y9RVbaOuWVouD6.jpg',\n",
       "   'genre_ids': [36, 18, 53, 10770],\n",
       "   'id': 86938,\n",
       "   'original_language': 'en',\n",
       "   'original_title': 'S.O.S. Titanic',\n",
       "   'overview': 'The Titanic disaster is depicted as seen through the eyes of one couple in each of the three classes on board.',\n",
       "   'popularity': 2.547,\n",
       "   'poster_path': '/eQIaggQnFMayPVrSzADwpki1B2G.jpg',\n",
       "   'release_date': '1979-09-23',\n",
       "   'title': 'S.O.S. Titanic',\n",
       "   'video': False,\n",
       "   'vote_average': 6.4,\n",
       "   'vote_count': 21},\n",
       "  {'adult': False,\n",
       "   'backdrop_path': None,\n",
       "   'genre_ids': [99, 36],\n",
       "   'id': 530108,\n",
       "   'original_language': 'en',\n",
       "   'original_title': 'The Unsinkable Titanic',\n",
       "   'overview': 'On April 10, 1912, the RMS Titanic embarked on its maiden voyage, sailing from Southampton, England, to New York City. One of the largest and most luxurious passenger liners at the time, the Titanic was also equipped with watertight compartments, which led many to consider the ship unsinkable; an anonymous deckhand famously claimed that “God himself could not sink this ship.” On April 14, however, the ship struck an iceberg, and early the next day it sank. Some 1,500 people perished.',\n",
       "   'popularity': 3.303,\n",
       "   'poster_path': '/m3py1JoOPM3s3RTRv965tMC8Fqy.jpg',\n",
       "   'release_date': '2008-11-03',\n",
       "   'title': 'The Unsinkable Titanic',\n",
       "   'video': False,\n",
       "   'vote_average': 9,\n",
       "   'vote_count': 1},\n",
       "  {'adult': False,\n",
       "   'backdrop_path': None,\n",
       "   'genre_ids': [35],\n",
       "   'id': 428615,\n",
       "   'original_language': 'ro',\n",
       "   'original_title': 'Titanic vals',\n",
       "   'overview': 'Based on a play by Tudor Mușatescu, Titanic Vals is the essence of Romanian genius in comedy, with amazing performances and the beautiful absurd of the quotidian.',\n",
       "   'popularity': 1.638,\n",
       "   'poster_path': '/ezr00Sm1H6Qlq7hRrUZQ9IP7PF3.jpg',\n",
       "   'release_date': '1964-12-02',\n",
       "   'title': 'Titanic Waltz',\n",
       "   'video': True,\n",
       "   'vote_average': 7.3,\n",
       "   'vote_count': 3},\n",
       "  {'adult': False,\n",
       "   'backdrop_path': None,\n",
       "   'genre_ids': [99],\n",
       "   'id': 46940,\n",
       "   'original_language': 'en',\n",
       "   'original_title': 'Secrets of the Titanic',\n",
       "   'overview': 'Dr. Robert Ballard of Woods Hole Oceanographic Institute and his research team become the first undersea explorers to locate, photograph, and explore the wreckage of the ill-fated HMS Titanic, which sank on its maiden voyage 2 1/2 mile deep in the icy waters of the Atlantic in 1912, taking 1500 passengers and crew with it to a watery grave. Utilizing dazzling state-of-the art equipment and cutting edge expertise they record the decaying remains of the ocean liner once thought \"unsinkable.\"',\n",
       "   'popularity': 3.181,\n",
       "   'poster_path': '/yEvumAoCB9Z7o9dAzjxrjcwo2FQ.jpg',\n",
       "   'release_date': '1986-08-07',\n",
       "   'title': 'Secrets of the Titanic',\n",
       "   'video': False,\n",
       "   'vote_average': 6.5,\n",
       "   'vote_count': 4},\n",
       "  {'adult': False,\n",
       "   'backdrop_path': '/dxdN3RxJRVYzFxVSR0fNhSBqBSL.jpg',\n",
       "   'genre_ids': [99],\n",
       "   'id': 682666,\n",
       "   'original_language': 'en',\n",
       "   'original_title': 'Back To The Titanic',\n",
       "   'overview': 'Back to the Titanic documents the first manned dives to Titanic in nearly 15 years. New footage reveals fresh decay and sheds light on the ship’s future.',\n",
       "   'popularity': 2.703,\n",
       "   'poster_path': '/wqa5qTTX547R9RIsiLbvQww1wkL.jpg',\n",
       "   'release_date': '2020-02-23',\n",
       "   'title': 'Back To The Titanic',\n",
       "   'video': False,\n",
       "   'vote_average': 9,\n",
       "   'vote_count': 2},\n",
       "  {'adult': False,\n",
       "   'backdrop_path': None,\n",
       "   'genre_ids': [],\n",
       "   'id': 125113,\n",
       "   'original_language': 'en',\n",
       "   'original_title': 'Cinematic Titanic: Rattlers',\n",
       "   'overview': 'Something is very wrong in the Southwestern desert! It starts when rogue rattlesnakes attack two young boys, and it goes downhill from there.  The local authorities summon herpetologist Dr. Tom Parkinson to investigate why the snakes are being such jerks. With the help of photographer and fledgling feminist Ann Bradley, the two of them embark on a haphazard and half-assed investigation – and romance. The hunt leads them to a nearby army base and its uncooperative commanding officer, Colonel Stroud. But when marauding rattlers kill two soldiers, the medical officer on the base can no longer keep silent and reveals the terrible secret, unleashing a chain of events, which lead to all kinds of explodey 1976 action, putting an end to the deadly rattlers.  Maybe...',\n",
       "   'popularity': 3.091,\n",
       "   'poster_path': None,\n",
       "   'release_date': '2012-07-17',\n",
       "   'title': 'Cinematic Titanic: Rattlers',\n",
       "   'video': False,\n",
       "   'vote_average': 0,\n",
       "   'vote_count': 0}],\n",
       " 'total_pages': 7,\n",
       " 'total_results': 133}"
      ]
     },
     "execution_count": 8,
     "metadata": {},
     "output_type": "execute_result"
    }
   ],
   "source": [
    "res.json()"
   ]
  },
  {
   "cell_type": "code",
   "execution_count": null,
   "metadata": {
    "collapsed": true,
    "jupyter": {
     "outputs_hidden": true
    }
   },
   "outputs": [],
   "source": []
  },
  {
   "cell_type": "code",
   "execution_count": null,
   "metadata": {
    "collapsed": true,
    "jupyter": {
     "outputs_hidden": true
    }
   },
   "outputs": [],
   "source": []
  },
  {
   "cell_type": "markdown",
   "metadata": {},
   "source": [
    "## Task\n",
    "Search for you favorite movie and return the information about the movie:\n",
    "- name\n",
    "- release date\n",
    "- runtime\n",
    "- revenue\n",
    "- length of the overview\n",
    "- number of votes\n",
    "- voting average"
   ]
  },
  {
   "cell_type": "code",
   "execution_count": 9,
   "metadata": {},
   "outputs": [],
   "source": [
    "base = \"https://api.themoviedb.org/3\"\n",
    "url = \"/search/movie\"\n",
    "query = 'gangs of new york'\n",
    "params = f'?query={query}&api_key={api_key}' \n",
    "res = requests.get(base+url+params)"
   ]
  },
  {
   "cell_type": "code",
   "execution_count": 12,
   "metadata": {},
   "outputs": [
    {
     "data": {
      "application/json": {
       "page": 1,
       "results": [
        {
         "adult": false,
         "backdrop_path": "/a2Aj5ksEo2HOUH3FbGyZCtaJM4C.jpg",
         "genre_ids": [
          18,
          36,
          80
         ],
         "id": 3131,
         "original_language": "en",
         "original_title": "Gangs of New York",
         "overview": "It's 1863. America was born in the streets. Amsterdam Vallon returns to the Five Points of America to seek vengeance against the psychotic gangland kingpin, Bill the Butcher, who murdered his father years earlier. With an eager pickpocket by his side and a whole new army, Vallon fights his way to seek vengeance on the Butcher and restore peace in the area.",
         "popularity": 20.735,
         "poster_path": "/lemqKtcCuAano5aqrzxYiKC8kkn.jpg",
         "release_date": "2002-12-14",
         "title": "Gangs of New York",
         "video": false,
         "vote_average": 7.3,
         "vote_count": 4673
        },
        {
         "adult": false,
         "backdrop_path": "/wpkgYNAhxOh45qpi68s5DdvKDl6.jpg",
         "genre_ids": [
          80
         ],
         "id": 25887,
         "original_language": "en",
         "original_title": "Gangs of New York",
         "overview": "An undercover cop infiltrates a powerful New York based crime syndicate.",
         "popularity": 3.021,
         "poster_path": "/g6XgtSUU8C0MSyHGBFPQzlJzly7.jpg",
         "release_date": "1938-05-23",
         "title": "Gangs of New York",
         "video": false,
         "vote_average": 4.2,
         "vote_count": 6
        },
        {
         "adult": false,
         "backdrop_path": null,
         "genre_ids": [
          99
         ],
         "id": 426362,
         "original_language": "en",
         "original_title": "Uncovering the Real Gangs of New York",
         "overview": "This brief look at mid nineteenth century New York City, a period of mass immigration, street gangs, political corruption, and the worst civilian insurrection in the country's history, lends insight into the inspiration for Martin Scorsese's new movie, Gangs of New York.",
         "popularity": 0.6,
         "poster_path": null,
         "release_date": "",
         "title": "Uncovering the Real Gangs of New York",
         "video": false,
         "vote_average": 6,
         "vote_count": 1
        }
       ],
       "total_pages": 1,
       "total_results": 3
      },
      "text/plain": [
       "<IPython.core.display.JSON object>"
      ]
     },
     "execution_count": 12,
     "metadata": {
      "application/json": {
       "expanded": false,
       "root": "root"
      }
     },
     "output_type": "execute_result"
    }
   ],
   "source": [
    "JSON(res.json())"
   ]
  },
  {
   "cell_type": "code",
   "execution_count": 13,
   "metadata": {},
   "outputs": [],
   "source": [
    "movie_id = 3131\n",
    "url = f'/movie/{movie_id}'\n",
    "params = f'?api_key={api_key}' \n",
    "res = requests.get(base+url+params)"
   ]
  },
  {
   "cell_type": "code",
   "execution_count": 16,
   "metadata": {},
   "outputs": [
    {
     "data": {
      "application/json": {
       "adult": false,
       "backdrop_path": "/a2Aj5ksEo2HOUH3FbGyZCtaJM4C.jpg",
       "belongs_to_collection": null,
       "budget": 100000000,
       "genres": [
        {
         "id": 18,
         "name": "Drama"
        },
        {
         "id": 36,
         "name": "History"
        },
        {
         "id": 80,
         "name": "Crime"
        }
       ],
       "homepage": "http://video.movies.go.com/gangsofnewyork/",
       "id": 3131,
       "imdb_id": "tt0217505",
       "original_language": "en",
       "original_title": "Gangs of New York",
       "overview": "It's 1863. America was born in the streets. Amsterdam Vallon returns to the Five Points of America to seek vengeance against the psychotic gangland kingpin, Bill the Butcher, who murdered his father years earlier. With an eager pickpocket by his side and a whole new army, Vallon fights his way to seek vengeance on the Butcher and restore peace in the area.",
       "popularity": 20.735,
       "poster_path": "/lemqKtcCuAano5aqrzxYiKC8kkn.jpg",
       "production_companies": [
        {
         "id": 14,
         "logo_path": "/m6AHu84oZQxvq7n1rsvMNJIAsMu.png",
         "name": "Miramax",
         "origin_country": "US"
        },
        {
         "id": 7380,
         "logo_path": null,
         "name": "Initial Entertainment Group (IEG)",
         "origin_country": ""
        },
        {
         "id": 7381,
         "logo_path": null,
         "name": "Alberto Grimaldi Productions",
         "origin_country": ""
        }
       ],
       "production_countries": [
        {
         "iso_3166_1": "US",
         "name": "United States of America"
        },
        {
         "iso_3166_1": "IT",
         "name": "Italy"
        }
       ],
       "release_date": "2002-12-14",
       "revenue": 193772504,
       "runtime": 167,
       "spoken_languages": [
        {
         "english_name": "English",
         "iso_639_1": "en",
         "name": "English"
        },
        {
         "english_name": "Irish",
         "iso_639_1": "ga",
         "name": "Gaeilge"
        },
        {
         "english_name": "Latin",
         "iso_639_1": "la",
         "name": "Latin"
        },
        {
         "english_name": "Mandarin",
         "iso_639_1": "zh",
         "name": "普通话"
        }
       ],
       "status": "Released",
       "tagline": "America was born in the streets.",
       "title": "Gangs of New York",
       "video": false,
       "vote_average": 7.3,
       "vote_count": 4674
      },
      "text/plain": [
       "<IPython.core.display.JSON object>"
      ]
     },
     "execution_count": 16,
     "metadata": {
      "application/json": {
       "expanded": false,
       "root": "root"
      }
     },
     "output_type": "execute_result"
    }
   ],
   "source": [
    "movie = res.json()\n",
    "JSON(res.json())"
   ]
  },
  {
   "cell_type": "code",
   "execution_count": 18,
   "metadata": {},
   "outputs": [
    {
     "name": "stdout",
     "output_type": "stream",
     "text": [
      "Title:  Gangs of New York\n",
      "Release date:  2002-12-14\n",
      "Runtime:  167\n",
      "Revenue:  193772504\n",
      "lenght of the overview:  358\n",
      "number of votes:  4674\n",
      "Voting Average:  7.3\n"
     ]
    }
   ],
   "source": [
    "print(\"Title: \",movie['title'])\n",
    "print(\"Release date: \", movie['release_date'])\n",
    "print(\"Runtime: \", movie['runtime'])\n",
    "print('Revenue: ', movie['revenue'])\n",
    "print(\"lenght of the overview: \", len(movie['overview']))\n",
    "print(\"number of votes: \", movie['vote_count'])\n",
    "print(\"Voting Average: \", movie['vote_average'])\n"
   ]
  },
  {
   "cell_type": "markdown",
   "metadata": {},
   "source": [
    "## Task\n",
    "Search for you favorite actor/actress and return the information about him/her:\n",
    "- name\n",
    "- date of birth\n",
    "- place of birth\n",
    "- length of the biography"
   ]
  },
  {
   "cell_type": "code",
   "execution_count": 21,
   "metadata": {},
   "outputs": [],
   "source": [
    "person_id = 4566\n",
    "url = f'/person/{person_id}'\n",
    "params = f'?api_key={api_key}' \n",
    "res_person = requests.get(base+url+params)"
   ]
  },
  {
   "cell_type": "code",
   "execution_count": 22,
   "metadata": {},
   "outputs": [
    {
     "data": {
      "application/json": {
       "adult": false,
       "also_known_as": [
        "ألان ريكمان",
        "앨런 릭먼",
        "Алан Рикман",
        "アラン・リックマン",
        "แอลัน ริกแมน",
        "艾倫·瑞克曼",
        "Άλαν Ρίκμαν",
        "Alan Sidney Patrick Rickman",
        "Άλαν Σίντνεϊ Πάτρικ Ρίκμαν"
       ],
       "biography": "Alan Sidney Patrick Rickman (21 February 1946-14 January 2016) was an English actor and theatre director. He was a renowned stage actor in modern and classical productions and a former member of the Royal Shakespeare Company. Rickman was known for his film performances as Hans Gruber in Die Hard, Severus Snape in the Harry Potter film series, Eamon de Valera in Michael Collins, and Metatron in Dogma. He was also known for his prominent roles as the Sheriff of Nottingham in the 1991 film, Robin Hood: Prince of Thieves, and as Colonel Brandon in Ang Lee's 1995 film Sense and Sensibility. More recently he played Judge Turpin in Tim Burton's Sweeney Todd: The Demon Barber of Fleet Street and voiced the Caterpillar in Tim Burton's Alice in Wonderland.\n\nDescription above from the Wikipedia article Alan Rickman, licensed under CC-BY-SA, full list of contributors on Wikipedia.",
       "birthday": "1946-02-21",
       "deathday": "2016-01-14",
       "gender": 2,
       "homepage": null,
       "id": 4566,
       "imdb_id": "nm0000614",
       "known_for_department": "Acting",
       "name": "Alan Rickman",
       "place_of_birth": "Hammersmith, London, UK",
       "popularity": 5.499,
       "profile_path": "/7tADZs4ILE93oJ5pAh6mKQFEq2m.jpg"
      },
      "text/plain": [
       "<IPython.core.display.JSON object>"
      ]
     },
     "execution_count": 22,
     "metadata": {
      "application/json": {
       "expanded": false,
       "root": "root"
      }
     },
     "output_type": "execute_result"
    }
   ],
   "source": [
    "person = res_person.json()\n",
    "JSON(res_person.json())"
   ]
  },
  {
   "cell_type": "code",
   "execution_count": 24,
   "metadata": {},
   "outputs": [
    {
     "name": "stdout",
     "output_type": "stream",
     "text": [
      "name:  Alan Rickman\n",
      "date of birth:  1946-02-21\n",
      "place of birth:  Hammersmith, London, UK\n",
      "length of the biography:  881\n"
     ]
    }
   ],
   "source": [
    "print(\"name: \",person['name'])\n",
    "print(\"date of birth: \",person['birthday'])\n",
    "print(\"place of birth: \",person['place_of_birth'])\n",
    "print(\"length of the biography: \",len(person['biography']))\n"
   ]
  },
  {
   "cell_type": "markdown",
   "metadata": {},
   "source": [
    "## Task\n",
    "Search for you favorite tv-show and return the information about it:\n",
    "- name\n",
    "- first air date\n",
    "- number of seasons\n",
    "- number of episodes\n",
    "- genres"
   ]
  },
  {
   "cell_type": "code",
   "execution_count": null,
   "metadata": {
    "collapsed": true,
    "jupyter": {
     "outputs_hidden": true
    }
   },
   "outputs": [],
   "source": []
  },
  {
   "cell_type": "code",
   "execution_count": null,
   "metadata": {
    "collapsed": true,
    "jupyter": {
     "outputs_hidden": true
    }
   },
   "outputs": [],
   "source": []
  },
  {
   "cell_type": "code",
   "execution_count": null,
   "metadata": {
    "collapsed": true,
    "jupyter": {
     "outputs_hidden": true
    }
   },
   "outputs": [],
   "source": []
  },
  {
   "cell_type": "markdown",
   "metadata": {},
   "source": [
    "## Task \n",
    "Find top 5 trending:\n",
    "- movies\n",
    "- tv-shows\n",
    "- people"
   ]
  },
  {
   "cell_type": "code",
   "execution_count": null,
   "metadata": {
    "collapsed": true,
    "jupyter": {
     "outputs_hidden": true
    }
   },
   "outputs": [],
   "source": []
  },
  {
   "cell_type": "code",
   "execution_count": null,
   "metadata": {
    "collapsed": true,
    "jupyter": {
     "outputs_hidden": true
    }
   },
   "outputs": [],
   "source": []
  }
 ],
 "metadata": {
  "kernelspec": {
   "display_name": "Python 3",
   "language": "python",
   "name": "python3"
  },
  "language_info": {
   "codemirror_mode": {
    "name": "ipython",
    "version": 3
   },
   "file_extension": ".py",
   "mimetype": "text/x-python",
   "name": "python",
   "nbconvert_exporter": "python",
   "pygments_lexer": "ipython3",
   "version": "3.8.3"
  }
 },
 "nbformat": 4,
 "nbformat_minor": 4
}
