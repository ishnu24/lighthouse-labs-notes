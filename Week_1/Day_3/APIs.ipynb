{
 "cells": [
  {
   "cell_type": "markdown",
   "metadata": {},
   "source": [
    "# APIs"
   ]
  },
  {
   "cell_type": "code",
   "execution_count": 1,
   "metadata": {},
   "outputs": [],
   "source": [
    "import requests as re\n",
    "import os\n",
    "from IPython.display import JSON\n"
   ]
  },
  {
   "cell_type": "code",
   "execution_count": 4,
   "metadata": {},
   "outputs": [],
   "source": [
    "# using os package\n",
    "client_id = os.environ[\"FOURSQUARE_CLIENT_ID\"]\n",
    "client_secret = os.environ[\"FOURSQUARE_CLIENT_SECRET\"]\n",
    "\n"
   ]
  },
  {
   "cell_type": "code",
   "execution_count": 5,
   "metadata": {},
   "outputs": [],
   "source": [
    "location = 'Toronto,Canada'\n",
    "v = '20200731'"
   ]
  },
  {
   "cell_type": "code",
   "execution_count": 6,
   "metadata": {},
   "outputs": [],
   "source": [
    "url = \"https://api.foursquare.com/v2/venues/search?near=\"+location+\"&client_id=\"+client_id+\"&client_secret=\"+client_secret+\"&v=\"+v"
   ]
  },
  {
   "cell_type": "code",
   "execution_count": 7,
   "metadata": {},
   "outputs": [
    {
     "name": "stdout",
     "output_type": "stream",
     "text": [
      "<Response [200]>\n"
     ]
    }
   ],
   "source": [
    "res = re.get(url)\n",
    "print(res)"
   ]
  },
  {
   "cell_type": "code",
   "execution_count": 9,
   "metadata": {},
   "outputs": [
    {
     "data": {
      "application/json": {
       "meta": {
        "code": 200,
        "requestId": "5ff644c795969635fe748b72"
       },
       "response": {
        "confident": false,
        "geocode": {
         "feature": {
          "cc": "CA",
          "displayName": "Toronto, ON, Canada",
          "geometry": {
           "bounds": {
            "ne": {
             "lat": 43.855547992182615,
             "lng": -79.1040939249301
            },
            "sw": {
             "lat": 43.58464308210616,
             "lng": -79.64745469478004
            }
           },
           "center": {
            "lat": 43.70011,
            "lng": -79.4163
           }
          },
          "highlightedName": "<b>Toronto</b>, ON, <b>Canada</b>",
          "id": "geonameid:6167865",
          "longId": "72057594044095801",
          "matchedName": "Toronto, ON, Canada",
          "name": "Toronto",
          "slug": "toronto",
          "woeType": 7
         },
         "parents": [],
         "what": "",
         "where": "toronto canada"
        },
        "venues": [
         {
          "categories": [
           {
            "icon": {
             "prefix": "https://ss3.4sqi.net/img/categories_v2/parks_outdoors/park_",
             "suffix": ".png"
            },
            "id": "4bf58dd8d48988d163941735",
            "name": "Park",
            "pluralName": "Parks",
            "primary": true,
            "shortName": "Park"
           }
          ],
          "hasPerk": false,
          "id": "4dcec14dd164679b8d07c1c4",
          "location": {
           "address": "281 Chaplin Crescent",
           "cc": "CA",
           "city": "Toronto",
           "country": "Canada",
           "formattedAddress": [
            "281 Chaplin Crescent",
            "Toronto ON",
            "Canada"
           ],
           "labeledLatLngs": [
            {
             "label": "display",
             "lat": 43.70113951308646,
             "lng": -79.41447047214669
            }
           ],
           "lat": 43.70113951308646,
           "lng": -79.41447047214669,
           "state": "ON"
          },
          "name": "Robert Bateman Parkette",
          "referralId": "v-1609974983"
         },
         {
          "categories": [
           {
            "icon": {
             "prefix": "https://ss3.4sqi.net/img/categories_v2/shops/default_",
             "suffix": ".png"
            },
            "id": "52f2ab2ebcbc57f1066b8b1f",
            "name": "Shipping Store",
            "pluralName": "Shipping Stores",
            "primary": true,
            "shortName": "Shipping Store"
           }
          ],
          "hasPerk": false,
          "id": "543df619498ea4de49c416da",
          "location": {
           "address": "5981 Steeles Ave E",
           "cc": "CA",
           "city": "Scarborough",
           "country": "Canada",
           "formattedAddress": [
            "5981 Steeles Ave E",
            "Scarborough ON M1V 5P7",
            "Canada"
           ],
           "labeledLatLngs": [
            {
             "label": "display",
             "lat": 43.70042688876462,
             "lng": -79.41739797592162
            }
           ],
           "lat": 43.70042688876462,
           "lng": -79.41739797592162,
           "postalCode": "M1V 5P7",
           "state": "ON"
          },
          "name": "FedEx Office",
          "referralId": "v-1609974983"
         },
         {
          "categories": [
           {
            "icon": {
             "prefix": "https://ss3.4sqi.net/img/categories_v2/food/vegetarian_",
             "suffix": ".png"
            },
            "id": "4bf58dd8d48988d1d3941735",
            "name": "Vegetarian / Vegan Restaurant",
            "pluralName": "Vegetarian / Vegan Restaurants",
            "primary": true,
            "shortName": "Vegetarian / Vegan"
           }
          ],
          "hasPerk": false,
          "id": "5f5f87eab388ec13dead9644",
          "location": {
           "address": "10 Temperance St FL 1",
           "cc": "CA",
           "city": "Toronto",
           "country": "Canada",
           "formattedAddress": [
            "10 Temperance St FL 1",
            "Toronto ON M5H 1Y4",
            "Canada"
           ],
           "labeledLatLngs": [
            {
             "label": "display",
             "lat": 43.65106,
             "lng": -79.37935
            }
           ],
           "lat": 43.65106,
           "lng": -79.37935,
           "neighborhood": "Forest Hill south",
           "postalCode": "M5H 1Y4",
           "state": "ON"
          },
          "name": "PLANTA Cocina",
          "referralId": "v-1609974983"
         },
         {
          "categories": [
           {
            "icon": {
             "prefix": "https://ss3.4sqi.net/img/categories_v2/travel/subway_",
             "suffix": ".png"
            },
            "id": "4bf58dd8d48988d1fd931735",
            "name": "Metro Station",
            "pluralName": "Metro Stations",
            "primary": true,
            "shortName": "Metro"
           }
          ],
          "hasPerk": false,
          "id": "4ae63a70f964a520cea521e3",
          "location": {
           "address": "370 St Clair Ave. W.",
           "cc": "CA",
           "city": "Toronto",
           "country": "Canada",
           "crossStreet": "at Bathurst St.",
           "formattedAddress": [
            "370 St Clair Ave. W. (at Bathurst St.)",
            "Toronto ON M5P 1N4",
            "Canada"
           ],
           "labeledLatLngs": [
            {
             "label": "display",
             "lat": 43.683928484835484,
             "lng": -79.41537988648979
            }
           ],
           "lat": 43.683928484835484,
           "lng": -79.41537988648979,
           "postalCode": "M5P 1N4",
           "state": "ON"
          },
          "name": "St Clair West Subway Station",
          "referralId": "v-1609974983"
         },
         {
          "categories": [
           {
            "icon": {
             "prefix": "https://ss3.4sqi.net/img/categories_v2/shops/pharmacy_",
             "suffix": ".png"
            },
            "id": "4bf58dd8d48988d10f951735",
            "name": "Pharmacy",
            "pluralName": "Pharmacies",
            "primary": true,
            "shortName": "Pharmacy"
           }
          ],
          "hasPerk": false,
          "id": "4baac620f964a520c6853ae3",
          "location": {
           "address": "550 Eglinton Ave W",
           "cc": "CA",
           "city": "Toronto",
           "country": "Canada",
           "formattedAddress": [
            "550 Eglinton Ave W",
            "Toronto ON M5N 1B6",
            "Canada"
           ],
           "labeledLatLngs": [
            {
             "label": "display",
             "lat": 43.703442,
             "lng": -79.415367
            }
           ],
           "lat": 43.703442,
           "lng": -79.415367,
           "postalCode": "M5N 1B6",
           "state": "ON"
          },
          "name": "Shoppers Drug Mart",
          "referralId": "v-1609974983"
         },
         {
          "categories": [
           {
            "icon": {
             "prefix": "https://ss3.4sqi.net/img/categories_v2/education/collegeacademicbuildings_engineering_",
             "suffix": ".png"
            },
            "id": "4bf58dd8d48988d19e941735",
            "name": "College Engineering Building",
            "pluralName": "College Engineering Buildings",
            "primary": true,
            "shortName": "Engineering"
           }
          ],
          "hasPerk": false,
          "id": "58b7fba0fc5a5f1dcd622bb5",
          "location": {
           "address": "34 Kern Rd #3",
           "cc": "CA",
           "city": "Toronto",
           "country": "Canada",
           "formattedAddress": [
            "34 Kern Rd #3",
            "Toronto ON M3B 1T1",
            "Canada"
           ],
           "labeledLatLngs": [
            {
             "label": "display",
             "lat": 43.70001078138574,
             "lng": -79.41663950699876
            }
           ],
           "lat": 43.70001078138574,
           "lng": -79.41663950699876,
           "postalCode": "M3B 1T1",
           "state": "ON"
          },
          "name": "Inertia Engineering",
          "referralId": "v-1609974983"
         },
         {
          "categories": [
           {
            "icon": {
             "prefix": "https://ss3.4sqi.net/img/categories_v2/travel/touristinformation_",
             "suffix": ".png"
            },
            "id": "4f4530164b9074f6e4fb00ff",
            "name": "Tourist Information Center",
            "pluralName": "Tourist Information Centers",
            "primary": true,
            "shortName": "Tourist Information"
           }
          ],
          "hasPerk": false,
          "id": "5bfd17c3b25fee0039ed2f75",
          "location": {
           "address": "100 King Street West",
           "cc": "CA",
           "city": "Toronto",
           "country": "Canada",
           "formattedAddress": [
            "100 King Street West",
            "Toronto ON M5H 1A1",
            "Canada"
           ],
           "labeledLatLngs": [
            {
             "label": "display",
             "lat": 43.70041137568109,
             "lng": -79.41715121269226
            }
           ],
           "lat": 43.70041137568109,
           "lng": -79.41715121269226,
           "postalCode": "M5H 1A1",
           "state": "ON"
          },
          "name": "Tour To Niagara Falls",
          "referralId": "v-1609974983"
         },
         {
          "categories": [
           {
            "icon": {
             "prefix": "https://ss3.4sqi.net/img/categories_v2/education/lawschool_",
             "suffix": ".png"
            },
            "id": "52f2ab2ebcbc57f1066b8b3f",
            "name": "Lawyer",
            "pluralName": "Lawyers",
            "primary": true,
            "shortName": "Lawyer"
           }
          ],
          "hasPerk": false,
          "id": "5c2d51d3e4c459002c06ce58",
          "location": {
           "address": "212 Adelaide Street West, Suite 300",
           "cc": "CA",
           "city": "Toronto",
           "country": "Canada",
           "formattedAddress": [
            "212 Adelaide Street West, Suite 300",
            "Toronto ON M5H 1W7",
            "Canada"
           ],
           "labeledLatLngs": [
            {
             "label": "display",
             "lat": 43.70015385781358,
             "lng": -79.41700100898743
            }
           ],
           "lat": 43.70015385781358,
           "lng": -79.41700100898743,
           "postalCode": "M5H 1W7",
           "state": "ON"
          },
          "name": "Sultan Lawyers - Workplace Solutions",
          "referralId": "v-1609974983"
         },
         {
          "categories": [
           {
            "icon": {
             "prefix": "https://ss3.4sqi.net/img/categories_v2/shops/jewelry_",
             "suffix": ".png"
            },
            "id": "4bf58dd8d48988d111951735",
            "name": "Jewelry Store",
            "pluralName": "Jewelry Stores",
            "primary": true,
            "shortName": "Jewelry"
           }
          ],
          "hasPerk": false,
          "id": "4beb7e0eb3352d7fec9f56d2",
          "location": {
           "address": "380 Eglinton Ave W",
           "cc": "CA",
           "city": "Toronto",
           "country": "Canada",
           "crossStreet": "Spadina",
           "formattedAddress": [
            "380 Eglinton Ave W (Spadina)",
            "Toronto ON M5N 1A2",
            "Canada"
           ],
           "labeledLatLngs": [
            {
             "label": "display",
             "lat": 43.702513,
             "lng": -79.418577
            }
           ],
           "lat": 43.702513,
           "lng": -79.418577,
           "postalCode": "M5N 1A2",
           "state": "ON"
          },
          "name": "Divana",
          "referralId": "v-1609974983"
         },
         {
          "categories": [
           {
            "icon": {
             "prefix": "https://ss3.4sqi.net/img/categories_v2/shops/realestate_",
             "suffix": ".png"
            },
            "id": "5032885091d4c4b30a586d66",
            "name": "Real Estate Office",
            "pluralName": "Real Estate Offices",
            "primary": true,
            "shortName": "Real Estate"
           }
          ],
          "hasPerk": false,
          "id": "5c9ca38301bc5a0039dceb2f",
          "location": {
           "address": "158 Davenport Rd.",
           "cc": "CA",
           "city": "Toronto",
           "country": "Canada",
           "formattedAddress": [
            "158 Davenport Rd.",
            "Toronto ON M5R 1J2",
            "Canada"
           ],
           "labeledLatLngs": [
            {
             "label": "display",
             "lat": 43.700969844159154,
             "lng": -79.41615343093872
            }
           ],
           "lat": 43.700969844159154,
           "lng": -79.41615343093872,
           "postalCode": "M5R 1J2",
           "state": "ON"
          },
          "name": "Hazelton Real Estate",
          "referralId": "v-1609974983"
         },
         {
          "categories": [
           {
            "icon": {
             "prefix": "https://ss3.4sqi.net/img/categories_v2/building/apartment_",
             "suffix": ".png"
            },
            "id": "4d954b06a243a5684965b473",
            "name": "Residential Building (Apartment / Condo)",
            "pluralName": "Residential Buildings (Apartments / Condos)",
            "primary": true,
            "shortName": "Residential"
           }
          ],
          "hasPerk": false,
          "id": "56945a9b498e68264351398a",
          "location": {
           "address": "800 Spadina Road",
           "cc": "CA",
           "city": "Toronto",
           "country": "Canada",
           "formattedAddress": [
            "800 Spadina Road",
            "Toronto ON M5P 3N2",
            "Canada"
           ],
           "labeledLatLngs": [
            {
             "label": "display",
             "lat": 43.70226354491046,
             "lng": -79.41889896341144
            }
           ],
           "lat": 43.70226354491046,
           "lng": -79.41889896341144,
           "postalCode": "M5P 3N2",
           "state": "ON"
          },
          "name": "Klein Schloss",
          "referralId": "v-1609974983"
         },
         {
          "categories": [
           {
            "icon": {
             "prefix": "https://ss3.4sqi.net/img/categories_v2/shops/automotive_",
             "suffix": ".png"
            },
            "id": "4bf58dd8d48988d124951735",
            "name": "Automotive Shop",
            "pluralName": "Automotive Shops",
            "primary": true,
            "shortName": "Automotive"
           }
          ],
          "hasPerk": false,
          "id": "4b4241cff964a52024d025e3",
          "location": {
           "address": "793 Spadina Rd",
           "cc": "CA",
           "city": "Toronto",
           "country": "Canada",
           "crossStreet": "Eglinton Ave W",
           "formattedAddress": [
            "793 Spadina Rd (Eglinton Ave W)",
            "Toronto ON M5P 2X5",
            "Canada"
           ],
           "labeledLatLngs": [
            {
             "label": "display",
             "lat": 43.702309,
             "lng": -79.419003
            }
           ],
           "lat": 43.702309,
           "lng": -79.419003,
           "postalCode": "M5P 2X5",
           "state": "ON"
          },
          "name": "Mr. Lube",
          "referralId": "v-1609974983"
         },
         {
          "categories": [
           {
            "icon": {
             "prefix": "https://ss3.4sqi.net/img/categories_v2/food/italian_",
             "suffix": ".png"
            },
            "id": "4bf58dd8d48988d110941735",
            "name": "Italian Restaurant",
            "pluralName": "Italian Restaurants",
            "primary": true,
            "shortName": "Italian"
           }
          ],
          "hasPerk": false,
          "id": "5b1a20000d8a0f002c26cbc1",
          "location": {
           "address": "4377 Steeles Ave W",
           "cc": "CA",
           "city": "Toronto",
           "country": "Canada",
           "formattedAddress": [
            "4377 Steeles Ave W",
            "Toronto ON M3N 1V7",
            "Canada"
           ],
           "labeledLatLngs": [
            {
             "label": "display",
             "lat": 43.70048894105855,
             "lng": -79.41780030727386
            }
           ],
           "lat": 43.70048894105855,
           "lng": -79.41780030727386,
           "postalCode": "M3N 1V7",
           "state": "ON"
          },
          "name": "La Luce Ristorante",
          "referralId": "v-1609974983"
         },
         {
          "categories": [
           {
            "icon": {
             "prefix": "https://ss3.4sqi.net/img/categories_v2/building/medical_dentist_",
             "suffix": ".png"
            },
            "id": "4bf58dd8d48988d178941735",
            "name": "Dentist's Office",
            "pluralName": "Dentist's Offices",
            "primary": true,
            "shortName": "Dentist's Office"
           }
          ],
          "hasPerk": false,
          "id": "55b8b9ef498ef500d2afa2c5",
          "location": {
           "address": "6 Dixon Road @ Scarlet Road",
           "cc": "CA",
           "city": "Toronto",
           "country": "Canada",
           "formattedAddress": [
            "6 Dixon Road @ Scarlet Road",
            "Toronto ON M9P 2K9",
            "Canada"
           ],
           "labeledLatLngs": [
            {
             "label": "display",
             "lat": 43.70120253782304,
             "lng": -79.41686153411865
            }
           ],
           "lat": 43.70120253782304,
           "lng": -79.41686153411865,
           "postalCode": "M9P 2K9",
           "state": "ON"
          },
          "name": "Dentures Direct",
          "referralId": "v-1609974983"
         },
         {
          "categories": [
           {
            "icon": {
             "prefix": "https://ss3.4sqi.net/img/categories_v2/education/lawschool_",
             "suffix": ".png"
            },
            "id": "52f2ab2ebcbc57f1066b8b3f",
            "name": "Lawyer",
            "pluralName": "Lawyers",
            "primary": true,
            "shortName": "Lawyer"
           }
          ],
          "hasPerk": false,
          "id": "54afb282498e8c2f9d17e632",
          "location": {
           "address": "4950 Yonge StreetSuite 2200",
           "cc": "CA",
           "city": "Toronto",
           "country": "Canada",
           "formattedAddress": [
            "4950 Yonge StreetSuite 2200",
            "Toronto ON M2N 6K1",
            "Canada"
           ],
           "labeledLatLngs": [
            {
             "label": "display",
             "lat": 43.70100087003319,
             "lng": -79.41471576690674
            }
           ],
           "lat": 43.70100087003319,
           "lng": -79.41471576690674,
           "postalCode": "M2N 6K1",
           "state": "ON"
          },
          "name": "Richard Cho Law Office",
          "referralId": "v-1609974983"
         },
         {
          "categories": [
           {
            "icon": {
             "prefix": "https://ss3.4sqi.net/img/categories_v2/building/gym_",
             "suffix": ".png"
            },
            "id": "4bf58dd8d48988d175941735",
            "name": "Gym / Fitness Center",
            "pluralName": "Gyms or Fitness Centers",
            "primary": true,
            "shortName": "Gym / Fitness"
           }
          ],
          "hasPerk": false,
          "id": "4c796957566db60ca2dd440e",
          "location": {
           "cc": "CA",
           "country": "Canada",
           "formattedAddress": [
            "Canada"
           ],
           "labeledLatLngs": [
            {
             "label": "display",
             "lat": 43.701801758665745,
             "lng": -79.41347434614993
            }
           ],
           "lat": 43.701801758665745,
           "lng": -79.41347434614993
          },
          "name": "Sully's Boxing Gym",
          "referralId": "v-1609974983"
         },
         {
          "categories": [
           {
            "icon": {
             "prefix": "https://ss3.4sqi.net/img/categories_v2/parks_outdoors/garden_",
             "suffix": ".png"
            },
            "id": "4bf58dd8d48988d15a941735",
            "name": "Garden",
            "pluralName": "Gardens",
            "primary": true,
            "shortName": "Garden"
           }
          ],
          "hasPerk": false,
          "id": "4e8ce69eb63445c4a4fe5649",
          "location": {
           "cc": "CA",
           "city": "Toronto",
           "country": "Canada",
           "formattedAddress": [
            "Toronto ON",
            "Canada"
           ],
           "labeledLatLngs": [
            {
             "label": "display",
             "lat": 43.70256768522876,
             "lng": -79.41805411238548
            }
           ],
           "lat": 43.70256768522876,
           "lng": -79.41805411238548,
           "state": "ON"
          },
          "name": "The Eglinton Way",
          "referralId": "v-1609974983"
         },
         {
          "categories": [],
          "hasPerk": false,
          "id": "4d4cb62a9ee137041bc07a8b",
          "location": {
           "cc": "CA",
           "country": "Canada",
           "formattedAddress": [
            "Canada"
           ],
           "labeledLatLngs": [
            {
             "label": "display",
             "lat": 43.702279,
             "lng": -79.416242
            }
           ],
           "lat": 43.702279,
           "lng": -79.416242
          },
          "name": "Wheeltrans",
          "referralId": "v-1609974983"
         },
         {
          "categories": [],
          "hasPerk": false,
          "id": "4e5d68051495d25a3a095621",
          "location": {
           "address": "28 Tarlton Road",
           "cc": "CA",
           "city": "Toronto",
           "country": "Canada",
           "formattedAddress": [
            "28 Tarlton Road",
            "Toronto ON",
            "Canada"
           ],
           "labeledLatLngs": [
            {
             "label": "display",
             "lat": 43.702363,
             "lng": -79.412918
            }
           ],
           "lat": 43.702363,
           "lng": -79.412918,
           "state": "ON"
          },
          "name": "28 Tarlton Road",
          "referralId": "v-1609974983"
         },
         {
          "categories": [
           {
            "icon": {
             "prefix": "https://ss3.4sqi.net/img/categories_v2/shops/artstore_",
             "suffix": ".png"
            },
            "id": "4bf58dd8d48988d127951735",
            "name": "Arts & Crafts Store",
            "pluralName": "Arts & Crafts Stores",
            "primary": true,
            "shortName": "Arts & Crafts"
           }
          ],
          "hasPerk": false,
          "id": "57c0d454cd10c998b6a13f47",
          "location": {
           "address": "558 Eglinton Avenue West",
           "cc": "CA",
           "city": "Toronto",
           "country": "Canada",
           "formattedAddress": [
            "558 Eglinton Avenue West",
            "Toronto ON M5N 1B7",
            "Canada"
           ],
           "labeledLatLngs": [
            {
             "label": "display",
             "lat": 43.70318,
             "lng": -79.41624
            }
           ],
           "lat": 43.70318,
           "lng": -79.41624,
           "postalCode": "M5N 1B7",
           "state": "ON"
          },
          "name": "Toronto Pottery Studio",
          "referralId": "v-1609974983"
         },
         {
          "categories": [],
          "hasPerk": false,
          "id": "4e014552b61c90045004a0ac",
          "location": {
           "address": "697 eglinton",
           "cc": "CA",
           "city": "Toronto",
           "country": "Canada",
           "formattedAddress": [
            "697 eglinton",
            "Toronto ON",
            "Canada"
           ],
           "labeledLatLngs": [
            {
             "label": "display",
             "lat": 43.6990698,
             "lng": -79.4184436
            }
           ],
           "lat": 43.6990698,
           "lng": -79.4184436,
           "state": "ON"
          },
          "name": "mona club house",
          "referralId": "v-1609974983"
         },
         {
          "categories": [
           {
            "icon": {
             "prefix": "https://ss3.4sqi.net/img/categories_v2/building/default_",
             "suffix": ".png"
            },
            "id": "4bf58dd8d48988d130941735",
            "name": "Building",
            "pluralName": "Buildings",
            "primary": true,
            "shortName": "Building"
           }
          ],
          "hasPerk": false,
          "id": "4ca269765720b1f7a6f128ef",
          "location": {
           "cc": "CA",
           "city": "Toronto",
           "country": "Canada",
           "formattedAddress": [
            "Toronto ON",
            "Canada"
           ],
           "labeledLatLngs": [
            {
             "label": "display",
             "lat": 43.702867,
             "lng": -79.417497
            }
           ],
           "lat": 43.702867,
           "lng": -79.417497,
           "state": "ON"
          },
          "name": "The Sanctuary",
          "referralId": "v-1609974983"
         },
         {
          "categories": [
           {
            "icon": {
             "prefix": "https://ss3.4sqi.net/img/categories_v2/building/gym_",
             "suffix": ".png"
            },
            "id": "4bf58dd8d48988d175941735",
            "name": "Gym / Fitness Center",
            "pluralName": "Gyms or Fitness Centers",
            "primary": true,
            "shortName": "Gym / Fitness"
           }
          ],
          "hasPerk": false,
          "id": "4bdc995aafe8c9b67d2d5085",
          "location": {
           "address": "574 Eglinton Ave West",
           "cc": "CA",
           "city": "Toronto Division",
           "country": "Canada",
           "crossStreet": "at Chaplin",
           "formattedAddress": [
            "574 Eglinton Ave West (at Chaplin)",
            "Toronto Division ON",
            "Canada"
           ],
           "labeledLatLngs": [
            {
             "label": "display",
             "lat": 43.702671240680786,
             "lng": -79.41383287739603
            }
           ],
           "lat": 43.702671240680786,
           "lng": -79.41383287739603,
           "state": "ON"
          },
          "name": "Detox",
          "referralId": "v-1609974983"
         },
         {
          "categories": [],
          "hasPerk": false,
          "id": "4c892ed1f53b236a29feaca6",
          "location": {
           "address": "533 Eglinton Ave West",
           "cc": "CA",
           "city": "Toronto Division",
           "country": "Canada",
           "formattedAddress": [
            "533 Eglinton Ave West",
            "Toronto Division ON M5N",
            "Canada"
           ],
           "labeledLatLngs": [
            {
             "label": "display",
             "lat": 43.703089,
             "lng": -79.414274
            }
           ],
           "lat": 43.703089,
           "lng": -79.414274,
           "postalCode": "M5N",
           "state": "ON"
          },
          "name": "Somerville Construction",
          "referralId": "v-1609974983"
         },
         {
          "categories": [],
          "hasPerk": false,
          "id": "4bc9eec3fb84c9b60cee1b3e",
          "location": {
           "address": "840 St. Clair Ave. W.",
           "cc": "CA",
           "city": "Toronto",
           "country": "Canada",
           "formattedAddress": [
            "840 St. Clair Ave. W.",
            "Toronto ON",
            "Canada"
           ],
           "labeledLatLngs": [
            {
             "label": "display",
             "lat": 43.701746811923,
             "lng": -79.41344262326314
            }
           ],
           "lat": 43.701746811923,
           "lng": -79.41344262326314,
           "state": "ON"
          },
          "name": "Atlas Boxing Gym",
          "referralId": "v-1609974983"
         },
         {
          "categories": [],
          "hasPerk": false,
          "id": "4bcd145568f976b0bde26383",
          "location": {
           "cc": "CA",
           "country": "Canada",
           "formattedAddress": [
            "Canada"
           ],
           "labeledLatLngs": [
            {
             "label": "display",
             "lat": 43.702294,
             "lng": -79.415364
            }
           ],
           "lat": 43.702294,
           "lng": -79.415364
          },
          "name": "555 Russell Hill Rd",
          "referralId": "v-1609974983"
         },
         {
          "categories": [],
          "hasPerk": false,
          "id": "4cbe0e2197bc721e4b557d67",
          "location": {
           "address": "1582 Bathurst St.",
           "cc": "CA",
           "city": "Toronto",
           "country": "Canada",
           "formattedAddress": [
            "1582 Bathurst St.",
            "Toronto ON",
            "Canada"
           ],
           "labeledLatLngs": [
            {
             "label": "display",
             "lat": 43.700444076291646,
             "lng": -79.41707027409693
            }
           ],
           "lat": 43.700444076291646,
           "lng": -79.41707027409693,
           "state": "ON"
          },
          "name": "Haber's Pharmacy",
          "referralId": "v-1609974983"
         },
         {
          "categories": [
           {
            "icon": {
             "prefix": "https://ss3.4sqi.net/img/categories_v2/building/apartment_",
             "suffix": ".png"
            },
            "id": "4d954b06a243a5684965b473",
            "name": "Residential Building (Apartment / Condo)",
            "pluralName": "Residential Buildings (Apartments / Condos)",
            "primary": true,
            "shortName": "Residential"
           }
          ],
          "hasPerk": false,
          "id": "5694586e498e8f4f72572f58",
          "location": {
           "address": "800 Spadina Road",
           "cc": "CA",
           "city": "Toronto",
           "country": "Canada",
           "formattedAddress": [
            "800 Spadina Road",
            "Toronto ON M5P 3N2",
            "Canada"
           ],
           "labeledLatLngs": [
            {
             "label": "display",
             "lat": 43.702347,
             "lng": -79.418989
            }
           ],
           "lat": 43.702347,
           "lng": -79.418989,
           "postalCode": "M5P 3N2",
           "state": "ON"
          },
          "name": "800 spadina road",
          "referralId": "v-1609974983"
         },
         {
          "categories": [
           {
            "icon": {
             "prefix": "https://ss3.4sqi.net/img/categories_v2/arts_entertainment/default_",
             "suffix": ".png"
            },
            "id": "4bf58dd8d48988d1f1931735",
            "name": "General Entertainment",
            "pluralName": "General Entertainment",
            "primary": true,
            "shortName": "Entertainment"
           }
          ],
          "hasPerk": false,
          "id": "4f9d2f4de4b08ea039ff2e13",
          "location": {
           "cc": "CA",
           "country": "Canada",
           "crossStreet": "Bathurst And Eglinton",
           "formattedAddress": [
            "Bathurst And Eglinton",
            "Canada"
           ],
           "labeledLatLngs": [
            {
             "label": "display",
             "lat": 43.699632849281414,
             "lng": -79.41758143161238
            }
           ],
           "lat": 43.699632849281414,
           "lng": -79.41758143161238
          },
          "name": "Metro Neqspaper Box",
          "referralId": "v-1609974983"
         },
         {
          "categories": [
           {
            "icon": {
             "prefix": "https://ss3.4sqi.net/img/categories_v2/parks_outdoors/basketballcourt_",
             "suffix": ".png"
            },
            "id": "4bf58dd8d48988d1e1941735",
            "name": "Basketball Court",
            "pluralName": "Basketball Courts",
            "primary": true,
            "shortName": "Basketball Court"
           }
          ],
          "hasPerk": false,
          "id": "4f808010e4b00084da683bdc",
          "location": {
           "address": "24 Browside",
           "cc": "CA",
           "city": "Toronto",
           "country": "Canada",
           "formattedAddress": [
            "24 Browside",
            "Toronto ON",
            "Canada"
           ],
           "labeledLatLngs": [
            {
             "label": "display",
             "lat": 43.697701082307184,
             "lng": -79.41622933137641
            }
           ],
           "lat": 43.697701082307184,
           "lng": -79.41622933137641,
           "state": "ON"
          },
          "name": "Browside Ball",
          "referralId": "v-1609974983"
         }
        ]
       }
      },
      "text/plain": [
       "<IPython.core.display.JSON object>"
      ]
     },
     "execution_count": 9,
     "metadata": {
      "application/json": {
       "expanded": false,
       "root": "root"
      }
     },
     "output_type": "execute_result"
    }
   ],
   "source": [
    "JSON(res.json())"
   ]
  },
  {
   "cell_type": "code",
   "execution_count": null,
   "metadata": {},
   "outputs": [],
   "source": []
  },
  {
   "cell_type": "code",
   "execution_count": null,
   "metadata": {},
   "outputs": [],
   "source": []
  }
 ],
 "metadata": {
  "kernelspec": {
   "display_name": "Python 3",
   "language": "python",
   "name": "python3"
  },
  "language_info": {
   "codemirror_mode": {
    "name": "ipython",
    "version": 3
   },
   "file_extension": ".py",
   "mimetype": "text/x-python",
   "name": "python",
   "nbconvert_exporter": "python",
   "pygments_lexer": "ipython3",
   "version": "3.8.3"
  }
 },
 "nbformat": 4,
 "nbformat_minor": 4
}
